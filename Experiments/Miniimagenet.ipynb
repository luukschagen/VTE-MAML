{
 "cells": [
  {
   "cell_type": "code",
   "execution_count": 2,
   "metadata": {},
   "outputs": [],
   "source": [
    "import torch\n",
    "import evaluation\n",
    "from torch.utils.data import DataLoader\n",
    "import torch.nn.functional as F\n",
    "from datasets import *\n",
    "from MAML import *\n",
    "import json\n",
    "import matplotlib.pyplot as plt\n",
    "import pandas as pd\n",
    "from tqdm import tqdm\n",
    "\n",
    "import os"
   ]
  },
  {
   "cell_type": "markdown",
   "metadata": {},
   "source": [
    "# MiniImagenet\n",
    "\n",
    "## Load models"
   ]
  },
  {
   "cell_type": "code",
   "execution_count": 12,
   "metadata": {
    "pycharm": {
     "name": "#%%\n"
    }
   },
   "outputs": [],
   "source": [
    "testdata = MiniImagenet(100, 1, 10, 5, mode='test')"
   ]
  },
  {
   "cell_type": "code",
   "execution_count": 6,
   "metadata": {
    "pycharm": {
     "name": "#%%\n"
    }
   },
   "outputs": [],
   "source": [
    "vte = evaluation.load_metalearner(\"best_models/MiniImagenet/vte-maml/settings.json\", testdata,\n",
    "                                  \"best_models/MiniImagenet/vte-maml/model.pkl\",\n",
    "                                  \"best_models/MiniImagenet/vte-maml/modulation.pkl\")\n",
    "\n",
    "mmaml = evaluation.load_metalearner(\"best_models/MiniImagenet/mmaml/settings.json\", testdata,\n",
    "                                    \"best_models/MiniImagenet/mmaml/model.pkl\",\n",
    "                                    \"best_models/MiniImagenet/mmaml/modulation.pkl\")\n",
    "\n",
    "maml = evaluation.load_metalearner(\"best_models/MiniImagenet/maml/settings.json\", testdata,\n",
    "                                   \"best_models/MiniImagenet/maml/model.pkl\",\n",
    "                                   \"best_models/MiniImagenet/maml/modulation.pkl\")"
   ]
  },
  {
   "cell_type": "markdown",
   "metadata": {},
   "source": [
    "### VTE-MAML"
   ]
  },
  {
   "cell_type": "code",
   "execution_count": 8,
   "metadata": {
    "pycharm": {
     "name": "#%%\n"
    },
    "scrolled": true
   },
   "outputs": [
    {
     "name": "stderr",
     "output_type": "stream",
     "text": [
      "100%|██████████| 100/100 [00:15<00:00,  6.55it/s]\n",
      "100%|██████████| 100/100 [00:15<00:00,  6.49it/s]\n",
      "100%|██████████| 100/100 [00:14<00:00,  6.72it/s]\n",
      "100%|██████████| 100/100 [00:15<00:00,  6.61it/s]\n",
      "100%|██████████| 100/100 [00:15<00:00,  6.61it/s]\n",
      "100%|██████████| 100/100 [00:15<00:00,  6.53it/s]\n",
      "100%|██████████| 100/100 [00:14<00:00,  6.76it/s]\n",
      "100%|██████████| 100/100 [00:14<00:00,  6.76it/s]\n",
      "100%|██████████| 100/100 [00:14<00:00,  6.68it/s]\n",
      "100%|██████████| 100/100 [00:15<00:00,  6.55it/s]\n"
     ]
    },
    {
     "name": "stdout",
     "output_type": "stream",
     "text": [
      "tensor(0.4896)\n",
      "tensor(0.0014)\n",
      "tensor(0.0396)\n",
      "tensor(0.0012)\n",
      "tensor(0.1742)\n",
      "tensor(0.0045)\n"
     ]
    }
   ],
   "source": [
    "acc, ece, mce = [], [], []\n",
    "for i in range(10):\n",
    "    a, e, m = evaluation.score(vte, testdata, 10, 10)\n",
    "    acc.append(a)\n",
    "    ece.append(e)\n",
    "    mce.append(m)\n",
    "\n",
    "acc = torch.Tensor(acc)\n",
    "ece = torch.Tensor(ece)\n",
    "mce = torch.Tensor(mce)\n",
    "\n",
    "print(acc.mean())\n",
    "print(acc.std()/10**0.5*1.96)\n",
    "print(ece.mean())\n",
    "print(ece.std()/10**0.5*1.96)\n",
    "print(mce.mean())\n",
    "print(mce.std()/10**0.5*1.96)"
   ]
  },
  {
   "cell_type": "markdown",
   "metadata": {},
   "source": [
    "### Multimodal-MAML"
   ]
  },
  {
   "cell_type": "code",
   "execution_count": 10,
   "metadata": {
    "pycharm": {
     "name": "#%%\n"
    }
   },
   "outputs": [
    {
     "name": "stderr",
     "output_type": "stream",
     "text": [
      "100%|██████████| 100/100 [00:01<00:00, 65.74it/s]\n",
      "100%|██████████| 100/100 [00:01<00:00, 66.12it/s]\n",
      "100%|██████████| 100/100 [00:01<00:00, 63.57it/s]\n",
      "100%|██████████| 100/100 [00:01<00:00, 67.27it/s]\n",
      "100%|██████████| 100/100 [00:01<00:00, 67.94it/s]\n",
      "100%|██████████| 100/100 [00:01<00:00, 67.48it/s]\n",
      "100%|██████████| 100/100 [00:01<00:00, 67.93it/s]\n",
      "100%|██████████| 100/100 [00:01<00:00, 64.80it/s]\n",
      "100%|██████████| 100/100 [00:01<00:00, 61.72it/s]\n",
      "100%|██████████| 100/100 [00:01<00:00, 67.79it/s]\n"
     ]
    },
    {
     "name": "stdout",
     "output_type": "stream",
     "text": [
      "tensor(0.4990)\n",
      "tensor(0.0008)\n",
      "tensor(0.0710)\n",
      "tensor(0.0016)\n",
      "tensor(0.3176)\n",
      "tensor(0.0092)\n"
     ]
    }
   ],
   "source": [
    "acc, ece, mce = [], [], []\n",
    "for i in range(10):\n",
    "    a, e, m = evaluation.score(mmaml, testdata, 1, 10)\n",
    "    acc.append(a)\n",
    "    ece.append(e)\n",
    "    mce.append(m)\n",
    "\n",
    "acc = torch.Tensor(acc)\n",
    "ece = torch.Tensor(ece)\n",
    "mce = torch.Tensor(mce)\n",
    "\n",
    "print(acc.mean())\n",
    "print(acc.std()/10**0.5*1.96)\n",
    "print(ece.mean())\n",
    "print(ece.std()/10**0.5*1.96)\n",
    "print(mce.mean())\n",
    "print(mce.std()/10**0.5*1.96)"
   ]
  },
  {
   "cell_type": "markdown",
   "metadata": {},
   "source": [
    "### MAML"
   ]
  },
  {
   "cell_type": "code",
   "execution_count": 11,
   "metadata": {
    "pycharm": {
     "name": "#%%\n"
    }
   },
   "outputs": [
    {
     "name": "stderr",
     "output_type": "stream",
     "text": [
      "100%|██████████| 100/100 [00:00<00:00, 138.02it/s]\n",
      "100%|██████████| 100/100 [00:00<00:00, 135.85it/s]\n",
      "100%|██████████| 100/100 [00:00<00:00, 139.47it/s]\n",
      "100%|██████████| 100/100 [00:00<00:00, 125.04it/s]\n",
      "100%|██████████| 100/100 [00:00<00:00, 130.10it/s]\n",
      "100%|██████████| 100/100 [00:00<00:00, 144.07it/s]\n",
      "100%|██████████| 100/100 [00:00<00:00, 146.20it/s]\n",
      "100%|██████████| 100/100 [00:00<00:00, 148.16it/s]\n",
      "100%|██████████| 100/100 [00:00<00:00, 143.56it/s]\n",
      "100%|██████████| 100/100 [00:00<00:00, 138.57it/s]\n"
     ]
    },
    {
     "name": "stdout",
     "output_type": "stream",
     "text": [
      "tensor(0.4758)\n",
      "tensor(0.0013)\n",
      "tensor(0.0575)\n",
      "tensor(0.0007)\n",
      "tensor(0.2548)\n",
      "tensor(0.0052)\n"
     ]
    }
   ],
   "source": [
    "acc, ece, mce = [], [], []\n",
    "for i in range(10):\n",
    "    a, e, m = evaluation.score(maml, testdata, 1, 10)\n",
    "    acc.append(a)\n",
    "    ece.append(e)\n",
    "    mce.append(m)\n",
    "\n",
    "acc = torch.Tensor(acc)\n",
    "ece = torch.Tensor(ece)\n",
    "mce = torch.Tensor(mce)\n",
    "\n",
    "print(acc.mean())\n",
    "print(acc.std()/10**0.5*1.96)\n",
    "print(ece.mean())\n",
    "print(ece.std()/10**0.5*1.96)\n",
    "print(mce.mean())\n",
    "print(mce.std()/10**0.5*1.96)"
   ]
  },
  {
   "cell_type": "markdown",
   "metadata": {},
   "source": [
    "# Calibration visualization"
   ]
  },
  {
   "cell_type": "code",
   "execution_count": 18,
   "metadata": {
    "pycharm": {
     "name": "#%%\n"
    }
   },
   "outputs": [],
   "source": [
    "def get_calibration_df(metalearner, testdata):\n",
    "    score = 0\n",
    "    final_preds = None\n",
    "    targets = None\n",
    "\n",
    "    for (x_s, x_q, y_s, y_q) in tqdm(testdata):\n",
    "        predictions = None\n",
    "        x_s, x_q, y_s, y_q = map(lambda x: x.to(metalearner.device), (x_s, x_q, y_s, y_q))\n",
    "        for i in range(5):\n",
    "\n",
    "            args = metalearner.finetune(x_s, y_s)\n",
    "            with torch.no_grad():\n",
    "                if type(args) == tuple:\n",
    "                    pred = metalearner.predict(x_q, *args)\n",
    "                else:\n",
    "                    pred = metalearner.predict(x_q, args)\n",
    "                if pred.shape[-1] > 1:\n",
    "                    pred = torch.nn.Softmax(dim=-1)(pred)\n",
    "                pred = pred.view(*pred.shape, 1)\n",
    "                if predictions is None:\n",
    "                    predictions = pred\n",
    "                else:\n",
    "                    predictions = torch.cat([predictions, pred], dim=2)\n",
    "\n",
    "        final_pred = predictions.mean(dim=2)\n",
    "\n",
    "        score += metalearner.get_accuracy(final_pred, y_q)\n",
    "        if final_preds is None:\n",
    "            final_preds = final_pred\n",
    "            targets = y_q\n",
    "        else:\n",
    "            final_preds = torch.cat([final_preds, final_pred], dim=0)\n",
    "            targets = torch.cat([targets, y_q], dim=0)\n",
    "\n",
    "    if final_preds.shape[-1] > 1:\n",
    "        final_preds = final_preds.view(-1)\n",
    "        onehot = torch.zeros(targets.shape[0], targets.max()+1)\n",
    "        onehot[range(onehot.shape[0]), targets] = 1\n",
    "        targets = onehot.view(-1)\n",
    "\n",
    "    print(final_preds.max())\n",
    "    buckets = (final_preds * 10-0.01).abs().floor()/10\n",
    "    print(buckets)\n",
    "    results = pd.DataFrame([buckets.flatten().detach().cpu().numpy(), targets.flatten().detach().cpu().numpy()]).T\n",
    "    results = pd.concat([results.groupby(0).mean(),results.groupby(0).count()], axis=1)\n",
    "    results.columns = [\"% positive\", \"number predicted\"]\n",
    "    return results"
   ]
  },
  {
   "cell_type": "code",
   "execution_count": 20,
   "metadata": {
    "pycharm": {
     "name": "#%%\n"
    }
   },
   "outputs": [
    {
     "name": "stderr",
     "output_type": "stream",
     "text": [
      "100%|██████████| 100/100 [01:20<00:00,  1.24it/s]\n"
     ]
    },
    {
     "name": "stdout",
     "output_type": "stream",
     "text": [
      "tensor(0.9963, device='cuda:0')\n",
      "tensor([0.0000, 0.4000, 0.0000,  ..., 0.3000, 0.2000, 0.1000], device='cuda:0')\n"
     ]
    }
   ],
   "source": [
    "vte_df = get_calibration_df(vte, testdata)"
   ]
  },
  {
   "cell_type": "code",
   "execution_count": 21,
   "metadata": {
    "pycharm": {
     "name": "#%%\n"
    }
   },
   "outputs": [
    {
     "name": "stderr",
     "output_type": "stream",
     "text": [
      "100%|██████████| 100/100 [01:18<00:00,  1.27it/s]\n"
     ]
    },
    {
     "name": "stdout",
     "output_type": "stream",
     "text": [
      "tensor(0.9981, device='cuda:0')\n",
      "tensor([0.0000, 0.1000, 0.1000,  ..., 0.7000, 0.0000, 0.1000], device='cuda:0')\n"
     ]
    }
   ],
   "source": [
    "mmaml_df = get_calibration_df(mmaml, testdata)"
   ]
  },
  {
   "cell_type": "code",
   "execution_count": 23,
   "metadata": {
    "pycharm": {
     "name": "#%%\n"
    }
   },
   "outputs": [
    {
     "name": "stderr",
     "output_type": "stream",
     "text": [
      "100%|██████████| 100/100 [01:03<00:00,  1.59it/s]\n"
     ]
    },
    {
     "name": "stdout",
     "output_type": "stream",
     "text": [
      "tensor(0.9954, device='cuda:0')\n",
      "tensor([0.4000, 0.0000, 0.2000,  ..., 0.4000, 0.0000, 0.0000], device='cuda:0')\n"
     ]
    }
   ],
   "source": [
    "maml_df = get_calibration_df(maml, testdata)"
   ]
  },
  {
   "cell_type": "code",
   "execution_count": 24,
   "metadata": {
    "pycharm": {
     "name": "#%%\n"
    }
   },
   "outputs": [
    {
     "data": {
      "image/png": "[encoded data removed]",
      "text/plain": [
       "<Figure size 432x288 with 1 Axes>"
      ]
     },
     "metadata": {
      "needs_background": "light"
     },
     "output_type": "display_data"
    }
   ],
   "source": [
    "plt.bar(np.array(vte_df.index).round(1)+0.05, vte_df['% positive'], width=0.1, color='red', edgecolor='black')\n",
    "plt.bar(np.array(vte_df.index).round(1)+0.05, vte_df['number predicted']/80000, width=0.1, color='grey', alpha=0.8)\n",
    "plt.plot(np.arange(0,1,0.01), np.arange(0,1,0.01), c='black', linestyle=\"--\")\n",
    "plt.xlabel(\"Prediction\", fontsize=16)\n",
    "plt.ylabel(\"% positive (red)\", fontsize=16)\n",
    "plt.savefig(\"calibration_vte_imagenet.pdf\", format='pdf')"
   ]
  },
  {
   "cell_type": "code",
   "execution_count": 25,
   "metadata": {
    "pycharm": {
     "name": "#%%\n"
    }
   },
   "outputs": [
    {
     "data": {
      "image/png": "[encoded data removed]",
      "text/plain": [
       "<Figure size 432x288 with 1 Axes>"
      ]
     },
     "metadata": {
      "needs_background": "light"
     },
     "output_type": "display_data"
    }
   ],
   "source": [
    "plt.bar(np.array(mmaml_df.index).round(1)+0.05, mmaml_df['% positive'], width=0.1, color='red', edgecolor='black')\n",
    "plt.bar(np.array(mmaml_df.index).round(1)+0.05, mmaml_df['number predicted']/80000, width=0.1, color='grey', alpha=0.8)\n",
    "plt.plot(np.arange(0,1,0.01), np.arange(0,1,0.01), c='black', linestyle=\"--\")\n",
    "plt.xlabel(\"Prediction\", fontsize=16)\n",
    "plt.ylabel(\"% positive (red)\", fontsize=16)\n",
    "plt.savefig(\"calibration_mmaml_imagenet.pdf\", format='pdf')"
   ]
  },
  {
   "cell_type": "code",
   "execution_count": 26,
   "metadata": {
    "pycharm": {
     "name": "#%%\n"
    }
   },
   "outputs": [
    {
     "data": {
      "image/png": "[encoded data removed]",
      "text/plain": [
       "<Figure size 432x288 with 1 Axes>"
      ]
     },
     "metadata": {
      "needs_background": "light"
     },
     "output_type": "display_data"
    }
   ],
   "source": [
    "plt.bar(np.array(maml_df.index).round(1)+0.05, maml_df['% positive'], width=0.1, color='red', edgecolor='black')\n",
    "plt.bar(np.array(maml_df.index).round(1)+0.05, maml_df['number predicted']/80000, width=0.1, color='grey', alpha=0.8)\n",
    "plt.plot(np.arange(0,1,0.01), np.arange(0,1,0.01), c='black', linestyle=\"--\")\n",
    "plt.xlabel(\"Prediction\", fontsize=16)\n",
    "plt.ylabel(\"% positive (red)\", fontsize=16)\n",
    "plt.savefig(\"calibration_maml_imagenet.pdf\", format='pdf')"
   ]
  }
 ],
 "metadata": {
  "kernelspec": {
   "display_name": "Python 3",
   "language": "python",
   "name": "python3"
  },
  "language_info": {
   "codemirror_mode": {
    "name": "ipython",
    "version": 3
   },
   "file_extension": ".py",
   "mimetype": "text/x-python",
   "name": "python",
   "nbconvert_exporter": "python",
   "pygments_lexer": "ipython3",
   "version": "3.7.7"
  }
 },
 "nbformat": 4,
 "nbformat_minor": 1
}
